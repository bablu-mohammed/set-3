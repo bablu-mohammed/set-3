{
 "cells": [
  {
   "cell_type": "markdown",
   "id": "c445ea04",
   "metadata": {},
   "source": [
    "# 1.what is a list?how do you define it?explain with an example:\n",
    "    \n",
    "List: It is collection of sequential datatypes and it is mutable.\n",
    "    \n",
    "      Lists are ordered and having duplicate values.\n",
    "        \n",
    "        Lists are defined by square braces [] and seperated by commas.\n",
    "        "
   ]
  },
  {
   "cell_type": "code",
   "execution_count": 9,
   "id": "b4e48e2f",
   "metadata": {},
   "outputs": [
    {
     "name": "stdout",
     "output_type": "stream",
     "text": [
      "['Bablu', 22, 'Vizag']\n",
      "<class 'list'>\n"
     ]
    }
   ],
   "source": [
    "l1=[\"Bablu\",22,\"Vizag\"]\n",
    "print(l1)\n",
    "print(type(l1))"
   ]
  },
  {
   "cell_type": "markdown",
   "id": "c6cea249",
   "metadata": {},
   "source": [
    "# 2.Create a Stack(LIFO) and Queue(FIFO) using lists"
   ]
  },
  {
   "cell_type": "code",
   "execution_count": 10,
   "id": "93b9d886",
   "metadata": {},
   "outputs": [
    {
     "name": "stdout",
     "output_type": "stream",
     "text": [
      "['maldevs', 'baali', 'mysore', 'banglore', 'ooty']\n",
      "ooty\n",
      "['maldevs', 'baali', 'mysore', 'banglore']\n",
      "banglore\n",
      "['maldevs', 'baali', 'mysore']\n"
     ]
    }
   ],
   "source": [
    "stack=[\"maldevs\",\"baali\",\"mysore\"]\n",
    "stack.append(\"banglore\")\n",
    "stack.append(\"ooty\")\n",
    "print(stack)\n",
    "print(stack.pop())\n",
    "print(stack)\n",
    "print(stack.pop())\n",
    "print(stack)\n"
   ]
  },
  {
   "cell_type": "code",
   "execution_count": 11,
   "id": "630f4c40",
   "metadata": {},
   "outputs": [
    {
     "name": "stdout",
     "output_type": "stream",
     "text": [
      "['maldevs', 'baali', 'mysore', 'banglore', 'ooty']\n",
      "maldevs\n",
      "['baali', 'mysore', 'banglore', 'ooty']\n",
      "baali\n",
      "['mysore', 'banglore', 'ooty']\n"
     ]
    }
   ],
   "source": [
    "queue=[\"maldevs\",\"baali\",\"mysore\"]\n",
    "queue.append(\"banglore\")\n",
    "queue.append(\"ooty\")\n",
    "print(queue)\n",
    "print(queue.pop(0))\n",
    "print(queue)\n",
    "print(queue.pop(0))\n",
    "print(queue)"
   ]
  },
  {
   "cell_type": "markdown",
   "id": "c0d5810c",
   "metadata": {},
   "source": [
    "# 3.use comaprision operator  to check whether a list1 is equal to list2 or not"
   ]
  },
  {
   "cell_type": "code",
   "execution_count": 12,
   "id": "766bbcc3",
   "metadata": {},
   "outputs": [
    {
     "name": "stdout",
     "output_type": "stream",
     "text": [
      "True\n"
     ]
    }
   ],
   "source": [
    "l1=[1,2,3,4]\n",
    "l2=[1,2,3,4]\n",
    "if l1==l2:\n",
    "    print(\"True\")\n",
    "else:\n",
    "    print(\"False\")"
   ]
  },
  {
   "cell_type": "markdown",
   "id": "06c81cc1",
   "metadata": {},
   "source": [
    "# 4.remove an element in a list and show the removed element in output"
   ]
  },
  {
   "cell_type": "code",
   "execution_count": 13,
   "id": "02b0a7a5",
   "metadata": {},
   "outputs": [
    {
     "name": "stdout",
     "output_type": "stream",
     "text": [
      "None\n",
      "[1, 2, 3, 4, 5, 7]\n"
     ]
    }
   ],
   "source": [
    "l1=[1,2,3,4,5,6,7]\n",
    "print(l1.remove(6))\n",
    "print(l1)"
   ]
  },
  {
   "cell_type": "code",
   "execution_count": 14,
   "id": "f43ad98d",
   "metadata": {},
   "outputs": [
    {
     "name": "stdout",
     "output_type": "stream",
     "text": [
      "3\n",
      "[1, 2, 4, 5, 7]\n"
     ]
    }
   ],
   "source": [
    "l1\n",
    "print(l1.pop(2))\n",
    "print(l1)"
   ]
  },
  {
   "cell_type": "markdown",
   "id": "1214dd6e",
   "metadata": {},
   "source": [
    "# 5.write a program to print max min and sum of list in an order"
   ]
  },
  {
   "cell_type": "code",
   "execution_count": 15,
   "id": "456ded9b",
   "metadata": {},
   "outputs": [
    {
     "name": "stdout",
     "output_type": "stream",
     "text": [
      "maximum number in a list is: 6\n",
      "minimum number in a list is: 1\n",
      "sum of all numbers in a list is: 21\n"
     ]
    }
   ],
   "source": [
    "l1=[1,2,3,4,5,6]\n",
    "print(\"maximum number in a list is:\",max(l1))\n",
    "print(\"minimum number in a list is:\",min(l1))\n",
    "print(\"sum of all numbers in a list is:\",sum(l1))"
   ]
  },
  {
   "cell_type": "markdown",
   "id": "ec026606",
   "metadata": {},
   "source": [
    "# 6.Write a program to accept marks of 6 students and display them in a sorted manner."
   ]
  },
  {
   "cell_type": "code",
   "execution_count": 8,
   "id": "d48a8b70",
   "metadata": {},
   "outputs": [
    {
     "name": "stdout",
     "output_type": "stream",
     "text": [
      "enter the marks of a student1:88\n",
      "enter the marks of a student2:77\n",
      "enter the marks of a student3:66\n",
      "enter the marks of a student4:99\n",
      "enter the marks of a student5:88\n",
      "enter the marks of a student6:66\n",
      "[88, 77, 66, 99, 88, 66]\n",
      "[66, 66, 77, 88, 88, 99]\n"
     ]
    }
   ],
   "source": [
    "m1=int(input(\"enter the marks of a student1:\"))\n",
    "m2=int(input(\"enter the marks of a student2:\"))\n",
    "m3=int(input(\"enter the marks of a student3:\"))\n",
    "m4=int(input(\"enter the marks of a student4:\"))\n",
    "m5=int(input(\"enter the marks of a student5:\"))\n",
    "m6=int(input(\"enter the marks of a student6:\"))\n",
    "overall_marks=[m1,m2,m3,m4,m5,m6]\n",
    "print(overall_marks)\n",
    "overall_marks.sort()\n",
    "print(overall_marks)\n"
   ]
  },
  {
   "cell_type": "markdown",
   "id": "d9294316",
   "metadata": {},
   "source": [
    "# 7.write a program to store seven fruits in a list entered by user"
   ]
  },
  {
   "cell_type": "code",
   "execution_count": 16,
   "id": "860ad802",
   "metadata": {},
   "outputs": [
    {
     "name": "stdout",
     "output_type": "stream",
     "text": [
      "enter a fruit1:apple\n",
      "enter a fruit2:banana\n",
      "enter a fruit3:camu camu\n",
      "enter a fruit4:dragon fruit\n",
      "enter a fruit5:edward mango\n",
      "enter a fruit6:fuji apples\n",
      "enter a fruit7:grape\n",
      "['apple', 'banana', 'camu camu', 'dragon fruit', 'edward mango', 'fuji apples', 'grape']\n"
     ]
    }
   ],
   "source": [
    "f1=input(\"enter a fruit1:\")\n",
    "f2=input(\"enter a fruit2:\")\n",
    "f3=input(\"enter a fruit3:\")\n",
    "f4=input(\"enter a fruit4:\")\n",
    "f5=input(\"enter a fruit5:\")\n",
    "f6=input(\"enter a fruit6:\")\n",
    "f7=input(\"enter a fruit7:\")\n",
    "fruits=[f1,f2,f3,f4,f5,f6,f7]\n",
    "print(fruits)\n"
   ]
  },
  {
   "cell_type": "code",
   "execution_count": null,
   "id": "72b46d1a",
   "metadata": {},
   "outputs": [],
   "source": []
  }
 ],
 "metadata": {
  "kernelspec": {
   "display_name": "Python 3 (ipykernel)",
   "language": "python",
   "name": "python3"
  },
  "language_info": {
   "codemirror_mode": {
    "name": "ipython",
    "version": 3
   },
   "file_extension": ".py",
   "mimetype": "text/x-python",
   "name": "python",
   "nbconvert_exporter": "python",
   "pygments_lexer": "ipython3",
   "version": "3.9.13"
  }
 },
 "nbformat": 4,
 "nbformat_minor": 5
}
